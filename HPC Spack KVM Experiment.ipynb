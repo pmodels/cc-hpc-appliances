{
 "cells": [
  {
   "cell_type": "markdown",
   "id": "c4af43a5-60fc-441b-a887-392151a0cf88",
   "metadata": {},
   "source": [
    "# Infrastructure Setup"
   ]
  },
  {
   "cell_type": "code",
   "execution_count": null,
   "id": "d57d4430-41e6-4a3f-95a7-8e1729ac74b8",
   "metadata": {},
   "outputs": [],
   "source": [
    "import os\n",
    "from chi import context\n",
    "\n",
    "# We select which chameleon site we are using and choose the project\n",
    "context.use_site(\"KVM@TACC\")\n",
    "context.choose_project()\n",
    "username = os.environ.get('USER').replace(\"_\", \"-\")"
   ]
  },
  {
   "cell_type": "markdown",
   "id": "829e7be6-381d-433a-b48a-8ecf15150275",
   "metadata": {},
   "source": [
    "## Creating a 1-day lease"
   ]
  },
  {
   "cell_type": "code",
   "execution_count": null,
   "id": "16055800-30f3-44a6-bebd-a0e2e3fc7407",
   "metadata": {},
   "outputs": [],
   "source": [
    "from chi import lease, server, network\n",
    "from datetime import timedelta"
   ]
  },
  {
   "cell_type": "code",
   "execution_count": null,
   "id": "17aef5dc-4b1c-4dfa-b362-daaf26072324",
   "metadata": {},
   "outputs": [],
   "source": [
    "instance_count = 3\n",
    "flavor = server.get_flavor('m1.medium')"
   ]
  },
  {
   "cell_type": "code",
   "execution_count": null,
   "id": "604bd2cf-b440-4780-ab9e-b020892f34d9",
   "metadata": {},
   "outputs": [],
   "source": [
    "mpi_lease = lease.Lease(f\"{username}-mpi-lease\", duration=timedelta(days=1))\n",
    "mpi_lease.add_flavor_reservation(id=flavor.id, amount=instance_count)\n",
    "mpi_lease.submit(idempotent=True)"
   ]
  },
  {
   "cell_type": "code",
   "execution_count": null,
   "id": "3ffc4f4b-05a8-4b79-b8a8-d703a497c1b2",
   "metadata": {},
   "outputs": [],
   "source": [
    "# Add a security group, required for KVM\n",
    "sg = network.SecurityGroup({\"name\": \"MPI-SSH-Access\", \"description\": \"Allow inbound SSH traffic to MPI instance\"})\n",
    "sg.add_rule(\"ingress\", \"tcp\", 22)\n",
    "sg.submit(idempotent=True)"
   ]
  },
  {
   "cell_type": "code",
   "execution_count": null,
   "id": "480d0c43-1436-4676-9017-4b018a66784b",
   "metadata": {},
   "outputs": [],
   "source": [
    "reserved_flavor = f\"reservation:{mpi_lease.flavor_reservations[0]['id']}\""
   ]
  },
  {
   "cell_type": "code",
   "execution_count": null,
   "id": "1ef8893b-1e1c-410e-bf54-ad1c717e613c",
   "metadata": {},
   "outputs": [],
   "source": [
    "mpi_master=server.Server(\n",
    "        f\"{username}-mpi-master\",\n",
    "        image_name=\"Ubuntu22.04-HPC-MPI-Spack\",\n",
    "        flavor_name=reserved_flavor,\n",
    "        network_name=\"sharednet1\"\n",
    ")\n",
    "mpi_master_hostname = mpi_master.name\n",
    "mpi_master.submit(idempotent=True)\n",
    "\n",
    "mpi_workers = []\n",
    "mpi_worker_hostnames = []\n",
    "for i in range(instance_count - 1):\n",
    "    mpi_worker=server.Server(\n",
    "            f\"{username}-mpi-worker-{i+1}\",\n",
    "            image_name=\"Ubuntu22.04-HPC-MPI-Spack\",\n",
    "            flavor_name=reserved_flavor,\n",
    "            network_name=\"sharednet1\"\n",
    "    )\n",
    "    mpi_worker.submit(idempotent=True)\n",
    "    mpi_workers.append(mpi_worker)\n",
    "    mpi_worker_hostnames.append(mpi_worker.name)"
   ]
  },
  {
   "cell_type": "code",
   "execution_count": null,
   "id": "2efb3f9f-b59e-436a-bb0b-d3ccea0514fd",
   "metadata": {},
   "outputs": [],
   "source": [
    "all_hostnames = mpi_master_hostname + \",\" + \",\".join(mpi_worker_hostnames)"
   ]
  },
  {
   "cell_type": "code",
   "execution_count": null,
   "id": "f3e7f3be-7cf2-4f3f-b085-230853aa6ddd",
   "metadata": {},
   "outputs": [],
   "source": [
    "fip = mpi_master.get_floating_ip()\n",
    "if not fip:\n",
    "    mpi_master.associate_floating_ip()\n",
    "    fip = mpi_master.get_floating_ip()"
   ]
  },
  {
   "cell_type": "code",
   "execution_count": null,
   "id": "2192b2d2-9137-4d2e-9249-7533be73d735",
   "metadata": {},
   "outputs": [],
   "source": [
    "# Execute only once\n",
    "mpi_master.add_security_group(sg.id)"
   ]
  },
  {
   "cell_type": "markdown",
   "id": "5fa272b2-a089-4e57-aaf6-5c4ad8336a2a",
   "metadata": {},
   "source": [
    "## Create inventory.ini to work with ansible"
   ]
  },
  {
   "cell_type": "code",
   "execution_count": null,
   "id": "8f29c18d-fcfb-4f0a-8ec7-da27db056967",
   "metadata": {},
   "outputs": [],
   "source": [
    "with open(\"./inventory.ini\", \"w\") as f:\n",
    "    f.write(\"[master_node]\\n\")\n",
    "    f.write(f\"{mpi_master.name} ansible_host={fip}\\n\\n\")\n",
    "    \n",
    "    f.write(\"[worker_nodes]\\n\")\n",
    "    f.write(\"\\n\".join(f\"{w.name} ansible_host={w.addresses['sharednet1'][0]['addr']}\" for w in mpi_workers))\n",
    "    f.write(\"\\n\\n\")\n",
    "    f.write(\"[worker_nodes:vars]\\n\")\n",
    "    f.write(f\"ansible_ssh_common_args='-o ProxyJump=cc@{fip}'\")"
   ]
  },
  {
   "cell_type": "markdown",
   "id": "19b44a9d-e9ef-4d7c-ae17-0db6f7a802ef",
   "metadata": {},
   "source": [
    "## Use Ansible to create an MPI Cluster"
   ]
  },
  {
   "cell_type": "code",
   "execution_count": null,
   "id": "799c7565-58a9-4d21-a17f-2ed43e8de0e4",
   "metadata": {},
   "outputs": [],
   "source": [
    "import ansible_runner\n",
    "import tempfile\n",
    "tmpdir = tempfile.TemporaryDirectory()\n",
    "ansible_run = ansible_runner.run(\n",
    "    private_data_dir=tmpdir.name,\n",
    "    inventory=os.path.abspath(\"inventory.ini\"),\n",
    "    envvars = {\n",
    "        \"ANSIBLE_PYTHON_INTERPRETER\": \"/usr/bin/python3\",\n",
    "        \"ANSIBLE_SSH_ARGS\": f\"-F {os.path.abspath(\"config\")}\",\n",
    "    },\n",
    "    extravars={\n",
    "        \"spack_packages\": [\"pdsh\"]\n",
    "    },\n",
    "    playbook=os.path.abspath(\"mpi-cluster.yml\"),\n",
    "    verbosity=0\n",
    ")"
   ]
  },
  {
   "cell_type": "code",
   "execution_count": null,
   "id": "ee69e6eb-4624-41b7-b593-551c879b39b4",
   "metadata": {},
   "outputs": [],
   "source": [
    "mpi_master.upload(\"./examples/src/hello.c\", \"/home/cc/hello.c\")\n",
    "mpi_master.upload(\"./examples/mpi_jobs/run_hello.sh\", \"/home/cc/run_hello.sh\")"
   ]
  },
  {
   "cell_type": "code",
   "execution_count": null,
   "id": "e8d754e8-3f14-4b6d-8b20-110b070c3539",
   "metadata": {},
   "outputs": [],
   "source": [
    "mpi_master.execute(f'bash -lc \"source /home/cc/run_hello.sh {mpi_master_hostname} {\",\".join(mpi_worker_hostnames)}\"')"
   ]
  },
  {
   "cell_type": "markdown",
   "id": "269900a4-d7e1-4bcd-89ec-10db0fd6925a",
   "metadata": {},
   "source": [
    "### Water_GMX50_bare"
   ]
  },
  {
   "cell_type": "markdown",
   "id": "0fda999c-8700-4cca-bbdb-d90dba9ccdb7",
   "metadata": {},
   "source": [
    "It is a prebuilt benchmark test provided by GROMACS. It contains a simulation of bulk water molecules using the TIP3P model"
   ]
  },
  {
   "cell_type": "code",
   "execution_count": null,
   "id": "3e38cd61-3199-4f6e-a498-72fe1ae4bb40",
   "metadata": {},
   "outputs": [],
   "source": [
    "mpi_master.upload(\"./examples/mpi_jobs/run_gromacs_water.sh\", \"/home/cc/run_gromacs_water.sh\")"
   ]
  },
  {
   "cell_type": "code",
   "execution_count": null,
   "id": "894480ef-8067-490e-9798-42861d8ea873",
   "metadata": {},
   "outputs": [],
   "source": [
    "mpi_master.execute(f'bash -lc \"source /home/cc/run_gromacs_water.sh {mpi_master_hostname} {\",\".join(mpi_worker_hostnames)}\"')"
   ]
  }
 ],
 "metadata": {
  "kernelspec": {
   "display_name": "Python 3 (ipykernel)",
   "language": "python",
   "name": "python3"
  },
  "language_info": {
   "codemirror_mode": {
    "name": "ipython",
    "version": 3
   },
   "file_extension": ".py",
   "mimetype": "text/x-python",
   "name": "python",
   "nbconvert_exporter": "python",
   "pygments_lexer": "ipython3",
   "version": "3.12.10"
  }
 },
 "nbformat": 4,
 "nbformat_minor": 5
}
