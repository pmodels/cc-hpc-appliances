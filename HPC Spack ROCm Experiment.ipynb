{
 "cells": [
  {
   "cell_type": "markdown",
   "id": "1dc58db7-bde8-4679-b9e5-81f90a40cad8",
   "metadata": {},
   "source": [
    "# Infrastructure Setup"
   ]
  },
  {
   "cell_type": "code",
   "execution_count": null,
   "id": "0f1be754-5f2a-4169-be88-3cecce321d1f",
   "metadata": {},
   "outputs": [],
   "source": [
    "import os\n",
    "from chi import context\n",
    "\n",
    "context.use_site(\"CHI@TACC\")\n",
    "context.choose_project()\n",
    "username = os.environ.get('USER').replace(\"_\", \"-\")"
   ]
  },
  {
   "cell_type": "markdown",
   "id": "84e9716c-d982-4265-850f-126a18493b98",
   "metadata": {},
   "source": [
    "## Creating a 1-day lease"
   ]
  },
  {
   "cell_type": "code",
   "execution_count": null,
   "id": "0e3269a8-a0bd-4933-bc15-b608688d86ec",
   "metadata": {},
   "outputs": [],
   "source": [
    "from chi import lease\n",
    "from datetime import timedelta"
   ]
  },
  {
   "cell_type": "code",
   "execution_count": null,
   "id": "46b3e878-0dca-4037-9852-31be145b4e9d",
   "metadata": {},
   "outputs": [],
   "source": [
    "node_type=\"gpu_mi100\"\n",
    "instance_count = 2\n",
    "network_name=\"sharednet1\""
   ]
  },
  {
   "cell_type": "code",
   "execution_count": null,
   "id": "cf2abb80-d3a3-43b9-977d-17f295db7fb0",
   "metadata": {},
   "outputs": [],
   "source": [
    "mpi_lease = lease.Lease(f\"{username}-mpi-lease-rocm\", duration=timedelta(days=4))\n",
    "\n",
    "mpi_lease.add_node_reservation(amount=instance_count, node_type=node_type)\n",
    "mpi_lease.add_fip_reservation(1)\n",
    "mpi_lease.submit(idempotent=True)"
   ]
  },
  {
   "cell_type": "markdown",
   "id": "5c037859-f0f4-4f4c-a992-6ca3aea17b50",
   "metadata": {},
   "source": [
    "## Creating server instances"
   ]
  },
  {
   "cell_type": "code",
   "execution_count": null,
   "id": "c9eb0dc6-f602-462d-9100-ff4ab16df995",
   "metadata": {},
   "outputs": [],
   "source": [
    "from chi import server"
   ]
  },
  {
   "cell_type": "code",
   "execution_count": null,
   "id": "84d13fbb-633a-498a-b1ff-a4d6baef2538",
   "metadata": {},
   "outputs": [],
   "source": [
    "mpi_master=server.Server(\n",
    "        f\"{username}-mpi-master-rocm\",\n",
    "        reservation_id=mpi_lease.node_reservations[0][\"id\"],\n",
    "        image_name=\"Ubuntu22.04-HPC-MPI-Spack-ROCm\",\n",
    "        network_name=network_name\n",
    ")\n",
    "mpi_master_hostname = mpi_master.name\n",
    "mpi_master.submit(idempotent=True)\n",
    "\n",
    "mpi_workers = []\n",
    "mpi_worker_hostnames = []\n",
    "for i in range(instance_count - 1):\n",
    "    mpi_worker=server.Server(\n",
    "            f\"{username}-mpi-worker-{i+1}-rocm\",\n",
    "            reservation_id=mpi_lease.node_reservations[0][\"id\"],\n",
    "            image_name=\"Ubuntu22.04-HPC-MPI-Spack-ROCm\",\n",
    "            network_name=network_name\n",
    "    )\n",
    "    mpi_worker.submit(idempotent=True)\n",
    "    mpi_workers.append(mpi_worker)\n",
    "    mpi_worker_hostnames.append(mpi_worker.name)"
   ]
  },
  {
   "cell_type": "code",
   "execution_count": null,
   "id": "8f4ff261-d3f6-4e9b-87e9-f2106e1d026c",
   "metadata": {},
   "outputs": [],
   "source": [
    "all_hostnames = mpi_master_hostname + \",\" + \",\".join(mpi_worker_hostnames)"
   ]
  },
  {
   "cell_type": "code",
   "execution_count": null,
   "id": "65980baf-e728-422b-937e-c7ffa7b0a9e5",
   "metadata": {},
   "outputs": [],
   "source": [
    "fip = mpi_lease.get_reserved_floating_ips()[0]\n",
    "mpi_master.associate_floating_ip(fip)"
   ]
  },
  {
   "cell_type": "markdown",
   "id": "22e1622a-6fee-4a07-a44f-3b705f51cc95",
   "metadata": {},
   "source": [
    "## Create inventory.ini to work with ansible"
   ]
  },
  {
   "cell_type": "code",
   "execution_count": null,
   "id": "99565b24-b4ad-4132-b70b-343f08ace99c",
   "metadata": {},
   "outputs": [],
   "source": [
    "with open(\"./inventory.ini\", \"w\") as f:\n",
    "    f.write(\"[master_node]\\n\")\n",
    "    f.write(f\"{mpi_master.name} ansible_host={fip}\\n\\n\")\n",
    "    \n",
    "    f.write(\"[worker_nodes]\\n\")\n",
    "    f.write(\"\\n\".join(f\"{w.name} ansible_host={w.addresses[network_name][0]['addr']}\" for w in mpi_workers))\n",
    "    f.write(\"\\n\\n\")\n",
    "    f.write(\"[worker_nodes:vars]\\n\")\n",
    "    f.write(f\"ansible_ssh_common_args='-o ProxyJump=cc@{fip}'\")"
   ]
  },
  {
   "cell_type": "markdown",
   "id": "fca0ffda-d1a9-43eb-bdcf-4f0de5635c8b",
   "metadata": {},
   "source": [
    "## Use Ansible to create an MPI Cluster"
   ]
  },
  {
   "cell_type": "code",
   "execution_count": null,
   "id": "e38263c9-f0c5-4db2-a09a-a1428798f6f8",
   "metadata": {},
   "outputs": [],
   "source": [
    "import ansible_runner\n",
    "import tempfile\n",
    "tmpdir = tempfile.TemporaryDirectory()\n",
    "ansible_run = ansible_runner.run(\n",
    "    private_data_dir=tmpdir.name,\n",
    "    inventory=os.path.abspath(\"inventory.ini\"),\n",
    "    envvars = {\n",
    "        \"ANSIBLE_PYTHON_INTERPRETER\": \"/usr/bin/python3\",\n",
    "        \"ANSIBLE_SSH_ARGS\": f\"-F {os.path.abspath(\"config\")}\",\n",
    "    },\n",
    "    extravars={\n",
    "        \"spack_packages\": [\"pdsh\"]\n",
    "    },\n",
    "    playbook=os.path.abspath(\"mpi-cluster.yml\"),\n",
    "    verbosity=0\n",
    ")"
   ]
  },
  {
   "cell_type": "code",
   "execution_count": null,
   "id": "946d09c9-de06-42da-966a-e42ff23c3ba0",
   "metadata": {},
   "outputs": [],
   "source": [
    "mpi_master.upload(\"./examples/src/hello.cpp\", \"/home/cc/hello.cpp\")\n",
    "mpi_master.upload(\"./examples/mpi_jobs/run_hello_rocm.sh\", \"/home/cc/run_hello.sh\")"
   ]
  },
  {
   "cell_type": "code",
   "execution_count": null,
   "id": "3fac5e0f-e208-4077-95ed-e144d731b96b",
   "metadata": {},
   "outputs": [],
   "source": [
    "mpi_master.execute(f'bash -lc \"source /home/cc/run_hello.sh {mpi_master_hostname} {\",\".join(mpi_worker_hostnames)}\"')"
   ]
  }
 ],
 "metadata": {
  "kernelspec": {
   "display_name": "Python 3 (ipykernel)",
   "language": "python",
   "name": "python3"
  },
  "language_info": {
   "codemirror_mode": {
    "name": "ipython",
    "version": 3
   },
   "file_extension": ".py",
   "mimetype": "text/x-python",
   "name": "python",
   "nbconvert_exporter": "python",
   "pygments_lexer": "ipython3",
   "version": "3.12.10"
  }
 },
 "nbformat": 4,
 "nbformat_minor": 5
}
