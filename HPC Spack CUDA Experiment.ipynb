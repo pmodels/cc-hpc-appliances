{
 "cells": [
  {
   "cell_type": "markdown",
   "id": "af01fa21-c3da-49f6-a94b-b71f74eca0f9",
   "metadata": {},
   "source": [
    "# Infrastructure Setup"
   ]
  },
  {
   "cell_type": "code",
   "execution_count": null,
   "id": "6c2fb96b-3c29-4520-aa48-3dae779e1eaa",
   "metadata": {},
   "outputs": [],
   "source": [
    "import os\n",
    "from chi import context\n",
    "\n",
    "# We select which chameleon site we are using and choose the project\n",
    "context.use_site('CHI@UC')\n",
    "context.choose_project()\n",
    "username = os.environ.get('USER').replace(\"_\", \"-\")"
   ]
  },
  {
   "cell_type": "markdown",
   "id": "4c909822-8467-4713-80a5-355d991e89bc",
   "metadata": {},
   "source": [
    "## Creating a 1-day lease"
   ]
  },
  {
   "cell_type": "code",
   "execution_count": null,
   "id": "c3532397-5eab-481c-928e-9d61ae652ef3",
   "metadata": {},
   "outputs": [],
   "source": [
    "from chi import lease\n",
    "from datetime import timedelta"
   ]
  },
  {
   "cell_type": "code",
   "execution_count": null,
   "id": "43eb8a60-2712-4f91-921b-e70f30eed7ab",
   "metadata": {},
   "outputs": [],
   "source": [
    "node_type=\"gpu_rtx_6000\"\n",
    "instance_count = 2\n",
    "network_name=f\"{username}-storage-network-cuda\""
   ]
  },
  {
   "cell_type": "code",
   "execution_count": null,
   "id": "c59a332d-132f-432d-96dc-aaf90bd80d7b",
   "metadata": {},
   "outputs": [],
   "source": [
    "mpi_lease = lease.Lease(f\"{username}-mpi-lease-cuda\", duration=timedelta(days=4))\n",
    "\n",
    "mpi_lease.add_node_reservation(amount=instance_count, node_type=node_type)\n",
    "# Register a storage network which is required to use NFS Shares\n",
    "mpi_lease.add_network_reservation(network_name=network_name, usage_type='storage')\n",
    "mpi_lease.add_fip_reservation(1)\n",
    "mpi_lease.submit(idempotent=True)"
   ]
  },
  {
   "cell_type": "markdown",
   "id": "de18ed4f-2eac-45c5-b257-487c87e91fcc",
   "metadata": {},
   "source": [
    "## Create a New Share"
   ]
  },
  {
   "cell_type": "code",
   "execution_count": null,
   "id": "d6ca087c-669e-4c07-9aea-e46c06d2cc98",
   "metadata": {},
   "outputs": [],
   "source": [
    "from chi import share"
   ]
  },
  {
   "cell_type": "code",
   "execution_count": null,
   "id": "dd685ac2-b83d-467f-9ae6-2a5fedbaefbd",
   "metadata": {},
   "outputs": [],
   "source": [
    "share_names = [s.name for s in share.list_shares()]"
   ]
  },
  {
   "cell_type": "code",
   "execution_count": null,
   "id": "39be605d-3d39-46e0-b30c-355a46f05c8c",
   "metadata": {},
   "outputs": [],
   "source": [
    "share_name = f\"{username}-share-cuda\"\n",
    "if share_name not in share_names:\n",
    "    print(f\"Creating new share - {share_name}\")\n",
    "    mpi_share = share.create_share(size=1, name=share_name)\n",
    "else:\n",
    "    mpi_share = share.get_share(share_name)"
   ]
  },
  {
   "cell_type": "code",
   "execution_count": null,
   "id": "d132714b-8717-4981-97e8-6c0510793183",
   "metadata": {},
   "outputs": [],
   "source": [
    "nfs_share = share.get_share(mpi_share.id)\n",
    "nfs_share"
   ]
  },
  {
   "cell_type": "markdown",
   "id": "54b95415-bb81-4fd9-b9bf-e8920b7a5b9f",
   "metadata": {},
   "source": [
    "## Creating server instances"
   ]
  },
  {
   "cell_type": "code",
   "execution_count": null,
   "id": "8d4df077-10fa-4f63-8a5d-bdc7e44fd950",
   "metadata": {},
   "outputs": [],
   "source": [
    "from chi import server"
   ]
  },
  {
   "cell_type": "code",
   "execution_count": null,
   "id": "d39c3868-b225-4279-aaae-e3fc74c30f32",
   "metadata": {},
   "outputs": [],
   "source": [
    "mpi_master=server.Server(\n",
    "        f\"{username}-mpi-master-cuda\",\n",
    "        reservation_id=mpi_lease.node_reservations[0][\"id\"],\n",
    "        image_name=\"Ubuntu22.04-HPC-MPI-Spack-CUDA\",\n",
    "        network_name=network_name\n",
    ")\n",
    "mpi_master_hostname = mpi_master.name\n",
    "mpi_master.submit(idempotent=True)\n",
    "\n",
    "mpi_workers = []\n",
    "mpi_worker_hostnames = []\n",
    "for i in range(instance_count - 1):\n",
    "    mpi_worker=server.Server(\n",
    "            f\"{username}-mpi-worker-{i+1}-cuda\",\n",
    "            reservation_id=mpi_lease.node_reservations[0][\"id\"],\n",
    "            image_name=\"Ubuntu22.04-HPC-MPI-Spack-CUDA\",\n",
    "            network_name=network_name\n",
    "    )\n",
    "    mpi_worker.submit(idempotent=True)\n",
    "    mpi_workers.append(mpi_worker)\n",
    "    mpi_worker_hostnames.append(mpi_worker.name)"
   ]
  },
  {
   "cell_type": "code",
   "execution_count": null,
   "id": "2f3412f3-00f7-4800-95cd-db63635f348c",
   "metadata": {},
   "outputs": [],
   "source": [
    "all_hostnames = mpi_master_hostname + \",\" + \",\".join(mpi_worker_hostnames)"
   ]
  },
  {
   "cell_type": "code",
   "execution_count": null,
   "id": "68ff809b-5b9f-48dc-945a-fb8cb817f0d0",
   "metadata": {},
   "outputs": [],
   "source": [
    "fip = mpi_lease.get_reserved_floating_ips()[0]\n",
    "server.associate_floating_ip(mpi_master.id, fip)"
   ]
  },
  {
   "cell_type": "markdown",
   "id": "8642226c-c841-4512-b4f5-fc4acc7f3628",
   "metadata": {},
   "source": [
    "## Create inventory.ini to work with ansible"
   ]
  },
  {
   "cell_type": "code",
   "execution_count": null,
   "id": "2bda8ee7-cd99-40a5-8947-45eeb645c76e",
   "metadata": {},
   "outputs": [],
   "source": [
    "with open(\"./inventory.ini\", \"w\") as f:\n",
    "    f.write(\"[master_node]\\n\")\n",
    "    f.write(f\"{mpi_master.name} ansible_host={fip}\\n\\n\")\n",
    "    \n",
    "    f.write(\"[worker_nodes]\\n\")\n",
    "    f.write(\"\\n\".join(f\"{w.name} ansible_host={w.addresses[network_name][0]['addr']}\" for w in mpi_workers))\n",
    "    f.write(\"\\n\\n\")\n",
    "    f.write(\"[worker_nodes:vars]\\n\")\n",
    "    f.write(f\"ansible_ssh_common_args='-o ProxyJump=cc@{fip}'\")"
   ]
  },
  {
   "cell_type": "markdown",
   "id": "7ebbd7bb-6f1e-4fa1-a669-46389fa45dbd",
   "metadata": {},
   "source": [
    "## Use Ansible to create an MPI Cluster"
   ]
  },
  {
   "cell_type": "code",
   "execution_count": null,
   "id": "0c232c5a-4ecc-443f-b316-ccba588e131c",
   "metadata": {},
   "outputs": [],
   "source": [
    "nfs_shares = [\n",
    "    {\"export\": nfs_share.export_locations[0], \"mount\": \"/mnt/share1\"}\n",
    "]"
   ]
  },
  {
   "cell_type": "code",
   "execution_count": null,
   "id": "71646418-8c5c-4f2a-857a-f8a788445bcf",
   "metadata": {},
   "outputs": [],
   "source": [
    "import ansible_runner\n",
    "import tempfile\n",
    "tmpdir = tempfile.TemporaryDirectory()\n",
    "ansible_run = ansible_runner.run(\n",
    "    private_data_dir=tmpdir.name,\n",
    "    inventory=os.path.abspath(\"inventory.ini\"),\n",
    "    envvars = {\n",
    "        \"ANSIBLE_PYTHON_INTERPRETER\": \"/usr/bin/python3\",\n",
    "        \"ANSIBLE_SSH_ARGS\": f\"-F {os.path.abspath(\"config\")}\",\n",
    "    },\n",
    "    extravars={\n",
    "        \"nfs_shares\": nfs_shares\n",
    "    },\n",
    "    playbook=os.path.abspath(\"mpi-cluster.yml\"),\n",
    "    verbosity=0\n",
    ")"
   ]
  },
  {
   "cell_type": "code",
   "execution_count": null,
   "id": "85f6a428-69ea-464c-91c2-6336b15dfe5c",
   "metadata": {},
   "outputs": [],
   "source": [
    "mpi_master.upload(\"./examples/src/hello.cu\", \"/home/cc/hello.cu\")\n",
    "mpi_master.upload(\"./examples/mpi_jobs/run_hello_cuda.sh\", \"/home/cc/run_hello.sh\")"
   ]
  },
  {
   "cell_type": "code",
   "execution_count": null,
   "id": "7e2579d6-63db-4be9-bdfc-2fb8e269f43e",
   "metadata": {},
   "outputs": [],
   "source": [
    "mpi_master.execute(f'bash -lc \"source /home/cc/run_hello.sh {mpi_master_hostname} {\",\".join(mpi_worker_hostnames)}\"')"
   ]
  }
 ],
 "metadata": {
  "kernelspec": {
   "display_name": "Python 3 (ipykernel)",
   "language": "python",
   "name": "python3"
  },
  "language_info": {
   "codemirror_mode": {
    "name": "ipython",
    "version": 3
   },
   "file_extension": ".py",
   "mimetype": "text/x-python",
   "name": "python",
   "nbconvert_exporter": "python",
   "pygments_lexer": "ipython3",
   "version": "3.12.10"
  }
 },
 "nbformat": 4,
 "nbformat_minor": 5
}
