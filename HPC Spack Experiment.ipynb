{
 "cells": [
  {
   "cell_type": "markdown",
   "id": "a717baed-cfb0-4bca-899a-6083da728747",
   "metadata": {},
   "source": [
    "# Infrastructure Setup"
   ]
  },
  {
   "cell_type": "code",
   "execution_count": null,
   "id": "a8e721c9-47e0-4a0e-896e-582d18c6760d",
   "metadata": {},
   "outputs": [],
   "source": [
    "import os\n",
    "from chi import context\n",
    "\n",
    "# We select which chameleon site(either UC or TACC) we are using and choose the project\n",
    "context.choose_site()\n",
    "context.choose_project()\n",
    "username = os.environ.get('USER').replace(\"_\",\"-\")"
   ]
  },
  {
   "cell_type": "markdown",
   "id": "0ab3daac-4a2e-449c-b84a-48544e5f409f",
   "metadata": {},
   "source": [
    "## Creating a 1-day lease"
   ]
  },
  {
   "cell_type": "code",
   "execution_count": null,
   "id": "3a88144a-1361-4419-a0ff-72d3e061acc9",
   "metadata": {},
   "outputs": [],
   "source": [
    "from chi import lease\n",
    "from datetime import timedelta"
   ]
  },
  {
   "cell_type": "code",
   "execution_count": null,
   "id": "865ed298-97ed-44cd-9072-afdb1b9ee530",
   "metadata": {},
   "outputs": [],
   "source": [
    "node_type=\"compute_cascadelake_r\"\n",
    "instance_count = 2"
   ]
  },
  {
   "cell_type": "code",
   "execution_count": null,
   "id": "0119b3c3-71ce-4647-bda0-99c2f1d813c8",
   "metadata": {},
   "outputs": [],
   "source": [
    "mpi_lease = lease.Lease(f\"{username}-mpi-lease\", duration=timedelta(days=1))\n",
    "\n",
    "mpi_lease.add_node_reservation(amount=instance_count, node_type=node_type)\n",
    "mpi_lease.add_fip_reservation(1)\n",
    "mpi_lease.submit(idempotent=True)"
   ]
  },
  {
   "cell_type": "markdown",
   "id": "c4180280-564c-4b53-9f07-f5c052ca41e5",
   "metadata": {},
   "source": [
    "## Creating server instances"
   ]
  },
  {
   "cell_type": "code",
   "execution_count": null,
   "id": "ea319564-52c8-4048-9ffb-d8fe83f167e8",
   "metadata": {},
   "outputs": [],
   "source": [
    "from chi import server"
   ]
  },
  {
   "cell_type": "code",
   "execution_count": null,
   "id": "7b17ca9f-f65c-46e1-ba35-e93398848ba0",
   "metadata": {},
   "outputs": [],
   "source": [
    "mpi_master=server.Server(\n",
    "        f\"{username}-mpi-master\",\n",
    "        reservation_id=mpi_lease.node_reservations[0][\"id\"],\n",
    "        image_name=\"Ubuntu22.04-HPC-MPI-Spack\",\n",
    "        network_name=\"sharednet1\"\n",
    ")\n",
    "mpi_master.submit(idempotent=True)\n",
    "\n",
    "mpi_workers = []\n",
    "for i in range(instance_count - 1):\n",
    "    mpi_worker=server.Server(\n",
    "            f\"{username}-mpi-worker-{i+1}\",\n",
    "            reservation_id=mpi_lease.node_reservations[0][\"id\"],\n",
    "            image_name=\"Ubuntu22.04-HPC-MPI-Spack\",\n",
    "            network_name=\"sharednet1\"\n",
    "    )\n",
    "    mpi_worker.submit(idempotent=True)\n",
    "    mpi_workers.append(mpi_worker)"
   ]
  },
  {
   "cell_type": "code",
   "execution_count": null,
   "id": "38de193c-8123-4e49-bead-48eeee1dd603",
   "metadata": {},
   "outputs": [],
   "source": [
    "fip = mpi_lease.get_reserved_floating_ips()[0]\n",
    "mpi_master.associate_floating_ip(fip)"
   ]
  },
  {
   "cell_type": "markdown",
   "id": "3df43f4e-6e66-4e8f-9520-547a1224d861",
   "metadata": {},
   "source": [
    "## Create inventory.ini to work with ansible"
   ]
  },
  {
   "cell_type": "code",
   "execution_count": null,
   "id": "2b72c9e0-49ac-4ec2-ad65-be3bbfac3445",
   "metadata": {},
   "outputs": [],
   "source": [
    "with open(\"./inventory.ini\", \"w\") as f:\n",
    "    f.write(\"[master_node]\\n\")\n",
    "    f.write(f\"{mpi_master.name} ansible_host={fip}\\n\\n\")\n",
    "    \n",
    "    f.write(\"[worker_nodes]\\n\")\n",
    "    f.write(\"\\n\".join(f\"{w.name} ansible_host={w.addresses['sharednet1'][0]['addr']}\" for w in mpi_workers))\n",
    "    f.write(\"\\n\\n\")\n",
    "    f.write(\"[worker_nodes:vars]\\n\")\n",
    "    f.write(f\"ansible_ssh_common_args='-o ProxyJump=cc@{fip}'\")"
   ]
  },
  {
   "cell_type": "markdown",
   "id": "3a933d07-f9dd-4b12-b0b3-a8f7f554900b",
   "metadata": {},
   "source": [
    "## Use Ansible to create an MPI Cluster"
   ]
  },
  {
   "cell_type": "code",
   "execution_count": null,
   "id": "59dfddbc-117c-42de-b8c5-afe9eaba9d2c",
   "metadata": {},
   "outputs": [],
   "source": [
    "import ansible_runner\n",
    "import tempfile\n",
    "tmpdir = tempfile.TemporaryDirectory()\n",
    "ansible_run = ansible_runner.run(\n",
    "    private_data_dir=tmpdir.name,\n",
    "    inventory=os.path.abspath(\"inventory.ini\"),\n",
    "    envvars = {\n",
    "        \"ANSIBLE_PYTHON_INTERPRETER\": \"/usr/bin/python3\",\n",
    "        \"ANSIBLE_SSH_ARGS\": f\"-F {os.path.abspath(\"config\")}\",\n",
    "    },\n",
    "    extravars={\n",
    "        \"spack_packages\": [\"pdsh\", \"gromacs +mpi ^openmpi\"]\n",
    "    },\n",
    "    playbook=os.path.abspath(\"mpi_cluster.yml\"),\n",
    "    verbosity=0\n",
    ")"
   ]
  },
  {
   "cell_type": "code",
   "execution_count": null,
   "id": "721ddefb-1283-4d8b-9d13-19c4e66b85c4",
   "metadata": {},
   "outputs": [],
   "source": [
    "mpi_master.upload(\"./examples/src/hello.c\", \"/home/cc/hello.c\")\n",
    "mpi_master.upload(\"./examples/mpi_jobs/run_hello.sh\", \"/home/cc/run_hello.sh\")"
   ]
  },
  {
   "cell_type": "code",
   "execution_count": null,
   "id": "b71052e7-572e-4677-8830-9ba6c8f1210d",
   "metadata": {},
   "outputs": [],
   "source": [
    "mpi_master.execute(f'bash -lc \"source /home/cc/run_hello.sh {mpi_master_hostname} {\",\".join(mpi_worker_hostnames)}\"')"
   ]
  },
  {
   "cell_type": "markdown",
   "id": "bd1f0d3d-45ee-451d-991c-34205182cdf3",
   "metadata": {},
   "source": [
    "## Gromacs Test"
   ]
  },
  {
   "cell_type": "markdown",
   "id": "547d52a3-7fb3-4129-a1c7-fd17044fb644",
   "metadata": {},
   "source": [
    "### Water_GMX50_bare"
   ]
  },
  {
   "cell_type": "markdown",
   "id": "f50d46b0-5089-4077-b81b-92be0744fa3b",
   "metadata": {},
   "source": [
    "It is a prebuilt benchmark test provided by GROMACS. It contains a simulation of bulk water molecules using the TIP3P model"
   ]
  },
  {
   "cell_type": "code",
   "execution_count": null,
   "id": "fe97c7b3-ec8b-4f0b-b570-946dc6c2986f",
   "metadata": {},
   "outputs": [],
   "source": [
    "mpi_master.upload(\"./examples/mpi_jobs/run_gromacs_water.sh\", \"/home/cc/run_gromacs_water.sh\")"
   ]
  },
  {
   "cell_type": "code",
   "execution_count": null,
   "id": "e4e4dd89-66b3-4e8a-8504-2458f5f8f41c",
   "metadata": {},
   "outputs": [],
   "source": [
    "mpi_master.execute(f'bash -lc \"source /home/cc/run_gromacs_water.sh {mpi_master_hostname} {\",\".join(mpi_worker_hostnames)}\"')"
   ]
  }
 ],
 "metadata": {
  "kernelspec": {
   "display_name": "Python 3 (ipykernel)",
   "language": "python",
   "name": "python3"
  },
  "language_info": {
   "codemirror_mode": {
    "name": "ipython",
    "version": 3
   },
   "file_extension": ".py",
   "mimetype": "text/x-python",
   "name": "python",
   "nbconvert_exporter": "python",
   "pygments_lexer": "ipython3",
   "version": "3.12.10"
  }
 },
 "nbformat": 4,
 "nbformat_minor": 5
}
