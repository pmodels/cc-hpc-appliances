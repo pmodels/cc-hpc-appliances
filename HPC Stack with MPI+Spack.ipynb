{
 "cells": [
  {
   "cell_type": "markdown",
   "id": "25595475-a840-4de0-9f93-ec21ede99c33",
   "metadata": {},
   "source": [
    "# HPC Stack with MPI and Spack"
   ]
  },
  {
   "cell_type": "markdown",
   "id": "bc88d415-2fe8-46e3-a37c-3cd104ba4278",
   "metadata": {},
   "source": [
    "This is an example of how to get started with the Complex appliance: https://chameleoncloud.org/appliances/132/"
   ]
  },
  {
   "cell_type": "markdown",
   "id": "3efe4210-36fb-4dc9-aafd-c0ccee4948d5",
   "metadata": {},
   "source": [
    "We install `python-heatclient` to support stacks"
   ]
  },
  {
   "cell_type": "code",
   "execution_count": null,
   "id": "2e39393c-888d-42bd-be55-aee0dbbe9701",
   "metadata": {},
   "outputs": [],
   "source": [
    "pip install -q python-heatclient"
   ]
  },
  {
   "cell_type": "markdown",
   "id": "23bda6d4-a3af-4738-9a6c-02adbde21874",
   "metadata": {},
   "source": [
    "### Get the template of the cluster from the appliance catalog"
   ]
  },
  {
   "cell_type": "code",
   "execution_count": null,
   "id": "28c05b34-f6f6-4b72-a3f6-49c1d9d0ec0a",
   "metadata": {},
   "outputs": [],
   "source": [
    "curl -o ./template.yml https://chameleoncloud.org/appliances/api/appliances/132/template"
   ]
  },
  {
   "cell_type": "code",
   "execution_count": null,
   "id": "f1e8829a-3604-4a5f-9816-d55c2c32dc5d",
   "metadata": {},
   "outputs": [],
   "source": [
    "export INSTANCE_COUNT=2"
   ]
  },
  {
   "cell_type": "markdown",
   "id": "ccd474a9-b479-4022-90ed-aaa38324d703",
   "metadata": {},
   "source": [
    "### Create a lease for the Master and Worker Nodes"
   ]
  },
  {
   "cell_type": "code",
   "execution_count": null,
   "id": "b45dd2ec-1392-4b41-8967-351cd981135f",
   "metadata": {},
   "outputs": [],
   "source": [
    "openstack reservation lease create \\\n",
    "  --reservation min=${INSTANCE_COUNT},max=${INSTANCE_COUNT},resource_type=physical:host,resource_properties='[\"==\",\"$node_type\",\"compute_cascadelake_r\"]' \\\n",
    "  --start-date \"$(date '+%Y-%m-%d %H:%M')\" \\\n",
    "  --end-date \"$(date -d '+3 days' '+%Y-%m-%d %H:%M')\" \\\n",
    "  mpi-lease"
   ]
  },
  {
   "cell_type": "markdown",
   "id": "941cf7a3-2c0a-428f-b4b5-9b9f60809d84",
   "metadata": {},
   "source": [
    "### Create a lease for the bootstrap Node"
   ]
  },
  {
   "cell_type": "code",
   "execution_count": null,
   "id": "58fc1f4f-882d-4a1d-bf0d-951b017fe04f",
   "metadata": {},
   "outputs": [],
   "source": [
    "openstack reservation lease create \\\n",
    "  --reservation min=1,max=1,resource_type=physical:host,resource_properties='[\"==\",\"$node_type\",\"compute_cascadelake_r\"]' \\\n",
    "  --start-date \"$(date '+%Y-%m-%d %H:%M')\" \\\n",
    "  --end-date \"$(date -d '+3 days' '+%Y-%m-%d %H:%M')\" \\\n",
    "  bootstrap-lease"
   ]
  },
  {
   "cell_type": "markdown",
   "id": "0827fcb9-9805-4341-8896-1826c5ceeb24",
   "metadata": {},
   "source": [
    "### Creating the Stack"
   ]
  },
  {
   "cell_type": "markdown",
   "id": "20cb3531-5c8b-449a-a6d7-359521e83a76",
   "metadata": {},
   "source": [
    "We can initialize the stack using the `--parameter` and `--parameter-file` options to pass parameter values or file contents. You can refer to the template and provide the required or optional parameters in the parameters section of the Heat template. \n",
    "\n",
    "An example for creating the stack is shown below."
   ]
  },
  {
   "cell_type": "code",
   "execution_count": null,
   "id": "34ced56e-fa5b-4d54-bf38-7623a2c9d77a",
   "metadata": {},
   "outputs": [],
   "source": [
    "export RESERVATION_ID=$(openstack reservation lease show mpi-lease -c reservations -f json \\\n",
    "    | jq -r '(.reservations | fromjson? | .id) // (.reservations[0].id)')\n",
    "export BOOTSTRAP_RESERVATION_ID=$(openstack reservation lease show bootstrap-lease -c reservations -f json \\\n",
    "    | jq -r '(.reservations | fromjson? | .id) // (.reservations[0].id)')"
   ]
  },
  {
   "cell_type": "code",
   "execution_count": null,
   "id": "0f018f01-4007-4847-80d3-0d3cf368eb3e",
   "metadata": {},
   "outputs": [],
   "source": [
    "export SSH_KEY=/work/.ssh/id_rsa\n",
    "export STACK_NAME=mpi-stack\n",
    "export NETWORK_NAME=sharednet1\n",
    "export IMAGE_NAME=Ubuntu22.04-HPC-MPI-Spack   # Use Ubuntu22.04-HPC-MPI-Spack-CUDA or Ubuntu22.04-HPC-MPI-Spack-ROCm if required\n",
    "export WORKER_COUNT=$((INSTANCE_COUNT - 1))\n",
    "export SPACK_PACKAGES=\"pdsh,zlib\"    # Specify the spack_packages you want installed on each node of the cluster."
   ]
  },
  {
   "cell_type": "code",
   "execution_count": null,
   "id": "e58fd553-2c7e-42fd-8cf4-5e2a0e654a38",
   "metadata": {},
   "outputs": [],
   "source": [
    "openstack stack create ${STACK_NAME} -t ./template.yml --wait \\\n",
    "    --parameter-file private_key_content=${SSH_KEY} \\\n",
    "    --parameter-file public_key_content=${SSH_KEY}.pub \\\n",
    "    --parameter network_name=${NETWORK_NAME} \\\n",
    "    --parameter image_name=${IMAGE_NAME} \\\n",
    "    --parameter bootstrapnode_reservation_id=${BOOTSTRAP_RESERVATION_ID} \\\n",
    "    --parameter reservation_id=${RESERVATION_ID} \\\n",
    "    --parameter worker_count=${WORKER_COUNT} \\\n",
    "    --parameter spack_packages=${SPACK_PACKAGES}"
   ]
  }
 ],
 "metadata": {
  "kernelspec": {
   "display_name": "Bash",
   "language": "bash",
   "name": "bash"
  },
  "language_info": {
   "codemirror_mode": "shell",
   "file_extension": ".sh",
   "mimetype": "text/x-sh",
   "name": "bash"
  }
 },
 "nbformat": 4,
 "nbformat_minor": 5
}
