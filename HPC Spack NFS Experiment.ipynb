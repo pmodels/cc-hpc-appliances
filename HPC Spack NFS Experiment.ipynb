{
 "cells": [
  {
   "cell_type": "markdown",
   "id": "b9038a95-5b7f-4cd1-8100-c08154c97e42",
   "metadata": {},
   "source": [
    "# Infrastructure Setup"
   ]
  },
  {
   "cell_type": "code",
   "execution_count": null,
   "id": "12f30bc3-64e1-4112-8c1b-7e3656bc135a",
   "metadata": {},
   "outputs": [],
   "source": [
    "import os\n",
    "from chi import context\n",
    "\n",
    "# We select which chameleon site we are using and choose the project\n",
    "context.use_site('CHI@UC')\n",
    "context.choose_project()\n",
    "username = os.environ.get('USER').replace(\"_\", \"-\")"
   ]
  },
  {
   "cell_type": "markdown",
   "id": "e0f8d96c-f32f-44ed-b140-2ffd6f1296c1",
   "metadata": {},
   "source": [
    "## Creating a 1-day lease"
   ]
  },
  {
   "cell_type": "code",
   "execution_count": null,
   "id": "4b0a23de-514b-4dd2-9292-b851011434b6",
   "metadata": {},
   "outputs": [],
   "source": [
    "from chi import lease\n",
    "from datetime import timedelta"
   ]
  },
  {
   "cell_type": "code",
   "execution_count": null,
   "id": "4dd72e54-1b6e-4e9f-9adb-64e91954e5bb",
   "metadata": {},
   "outputs": [],
   "source": [
    "node_type=\"compute_cascadelake_r\"\n",
    "instance_count = 3"
   ]
  },
  {
   "cell_type": "code",
   "execution_count": null,
   "id": "2c94af3f-2118-4df5-8c62-9a00dfd00b6c",
   "metadata": {},
   "outputs": [],
   "source": [
    "mpi_lease = lease.Lease(f\"{username}-mpi-lease\", duration=timedelta(days=4))\n",
    "\n",
    "mpi_lease.add_node_reservation(amount=instance_count, node_type=node_type)\n",
    "# Register a storage network which is required to use NFS Shares\n",
    "mpi_lease.add_network_reservation(network_name=f\"{username}-storage-network\", usage_type='storage')\n",
    "mpi_lease.add_fip_reservation(1)\n",
    "mpi_lease.submit(idempotent=True)"
   ]
  },
  {
   "cell_type": "markdown",
   "id": "6c607b3c-f1f5-4ea7-9d05-50fa42c6388d",
   "metadata": {},
   "source": [
    "## Creating server instances"
   ]
  },
  {
   "cell_type": "code",
   "execution_count": null,
   "id": "9154049e-0035-4d5f-9606-838f5e5f85b2",
   "metadata": {},
   "outputs": [],
   "source": [
    "from chi import server"
   ]
  },
  {
   "cell_type": "code",
   "execution_count": null,
   "id": "76c7c2c8-c877-43ab-b9a1-0aae7aedbb08",
   "metadata": {},
   "outputs": [],
   "source": [
    "mpi_master=server.Server(\n",
    "        f\"{username}-mpi-master\",\n",
    "        reservation_id=mpi_lease.node_reservations[0][\"id\"],\n",
    "        image_name=\"Ubuntu22.04-HPC-MPI-Spack\",\n",
    "        network_name=f\"{username}-storage-network\"\n",
    ")\n",
    "mpi_master_hostname = mpi_master.name\n",
    "mpi_master.submit(idempotent=True)\n",
    "\n",
    "mpi_workers = []\n",
    "mpi_worker_hostnames = []\n",
    "for i in range(instance_count - 1):\n",
    "    mpi_worker=server.Server(\n",
    "            f\"{username}-mpi-worker-{i+1}\",\n",
    "            reservation_id=mpi_lease.node_reservations[0][\"id\"],\n",
    "            image_name=\"Ubuntu22.04-HPC-MPI-Spack\",\n",
    "            network_name=f\"{username}-storage-network\"\n",
    "    )\n",
    "    mpi_worker.submit(idempotent=True)\n",
    "    mpi_workers.append(mpi_worker)\n",
    "    mpi_worker_hostnames.append(mpi_worker.name)"
   ]
  },
  {
   "cell_type": "code",
   "execution_count": null,
   "id": "d976f52f-2997-4366-b982-7540176dcd4b",
   "metadata": {},
   "outputs": [],
   "source": [
    "all_hostnames = mpi_master_hostname + \",\" + \",\".join(mpi_worker_hostnames)"
   ]
  },
  {
   "cell_type": "code",
   "execution_count": null,
   "id": "0a1c569f-17a8-45ce-9c71-b9ad3261179d",
   "metadata": {},
   "outputs": [],
   "source": [
    "fip = mpi_lease.get_reserved_floating_ips()[0]\n",
    "server.associate_floating_ip(mpi_master.id, fip)"
   ]
  },
  {
   "cell_type": "markdown",
   "id": "e144f4df-29c5-4386-bc3c-cfb42ea86f14",
   "metadata": {},
   "source": [
    "## Create a New Share"
   ]
  },
  {
   "cell_type": "code",
   "execution_count": null,
   "id": "a158dcc4-501e-42f1-8eba-9c9db8dce2a1",
   "metadata": {},
   "outputs": [],
   "source": [
    "from chi import share"
   ]
  },
  {
   "cell_type": "code",
   "execution_count": null,
   "id": "aa8234b3-3bc2-459f-a897-4bb4818af4dc",
   "metadata": {},
   "outputs": [],
   "source": [
    "share_names = [s.name for s in share.list_shares()]"
   ]
  },
  {
   "cell_type": "code",
   "execution_count": null,
   "id": "9d4c4b6b-0ac8-40e8-844f-fd0c2ca72a90",
   "metadata": {},
   "outputs": [],
   "source": [
    "share_name = f\"{username}-share\"\n",
    "if share_name not in share_names:\n",
    "    print(f\"Creating new share - {share_name}\")\n",
    "    mpi_share = share.create_share(size=1, name=f\"{username}-share\")\n",
    "else:\n",
    "    mpi_share = share.get_share(share_name)"
   ]
  },
  {
   "cell_type": "code",
   "execution_count": null,
   "id": "f2df8b2e-60ea-4bb4-988c-ac3836048a70",
   "metadata": {},
   "outputs": [],
   "source": [
    "nfs_share = share.get_share(mpi_share.id)\n",
    "nfs_share"
   ]
  },
  {
   "cell_type": "code",
   "execution_count": null,
   "id": "14d10009-8cde-48b7-be30-b7b515427755",
   "metadata": {},
   "outputs": [],
   "source": [
    "nfs_share_export_locations = nfs_share.export_locations[0]\n",
    "nfs_share_export_locations"
   ]
  },
  {
   "cell_type": "markdown",
   "id": "e9f5f8d2-1839-4576-8856-1dc54004dd28",
   "metadata": {},
   "source": [
    "## Create inventory.ini to work with ansible"
   ]
  },
  {
   "cell_type": "code",
   "execution_count": null,
   "id": "f5d9f152-3104-456e-a170-ef9249ac83ab",
   "metadata": {},
   "outputs": [],
   "source": [
    "with open(\"/work/inventory.ini\", \"w\") as f:\n",
    "    f.write(\"[master_node]\\n\")\n",
    "    f.write(f\"{mpi_master.name} ansible_host={fip}\\n\\n\")\n",
    "    \n",
    "    f.write(\"[worker_nodes]\\n\")\n",
    "    f.write(\"\\n\".join(f\"{w.name} ansible_host={w.addresses[f\"{username}-storage-network\"][0]['addr']}\" for w in mpi_workers))\n",
    "    f.write(\"\\n\\n\")\n",
    "    f.write(\"[worker_nodes:vars]\\n\")\n",
    "    f.write(f\"ansible_ssh_common_args='-o ProxyJump=cc@{fip}'\")"
   ]
  },
  {
   "cell_type": "markdown",
   "id": "63c4b8d0-4e83-47bd-ae22-a731d99499e9",
   "metadata": {},
   "source": [
    "## Use Ansible to create an MPI Cluster"
   ]
  },
  {
   "cell_type": "code",
   "execution_count": null,
   "id": "003704fa-b651-4a7e-866b-fc38d9229c14",
   "metadata": {},
   "outputs": [],
   "source": [
    "nfs_shares = [\n",
    "    {\"export\": nfs_share_export_locations, \"mount\": \"/mnt/share1\"}\n",
    "]"
   ]
  },
  {
   "cell_type": "code",
   "execution_count": null,
   "id": "6fb70607-276b-4c48-8f85-5c7420754bb7",
   "metadata": {},
   "outputs": [],
   "source": [
    "import ansible_runner\n",
    "import tempfile\n",
    "tmpdir = tempfile.TemporaryDirectory()\n",
    "ansible_run = ansible_runner.run(\n",
    "    private_data_dir=tmpdir.name,\n",
    "    inventory=\"/work/inventory.ini\",\n",
    "    envvars = {\n",
    "        \"ANSIBLE_CONFIG\": f\"/work/ansible.cfg\"\n",
    "    },\n",
    "    extravars={\n",
    "        \"nfs_shares\": nfs_shares\n",
    "    },\n",
    "    playbook=f\"/work/mpi-cluster.yml\",\n",
    "    verbosity=0\n",
    ")"
   ]
  },
  {
   "cell_type": "code",
   "execution_count": null,
   "id": "42ab27ae-660e-44ea-aa34-51f3ab8bbdf9",
   "metadata": {},
   "outputs": [],
   "source": [
    "mpi_master.upload(\"/work/examples/src/hello.c\", \"/home/cc/hello.c\")\n",
    "mpi_master.upload(\"/work/examples/mpi_jobs/run_hello_nfs.sh\", \"/home/cc/run_hello.sh\")"
   ]
  },
  {
   "cell_type": "code",
   "execution_count": null,
   "id": "60ad3800-b58e-4c83-807f-fd0126e8f94a",
   "metadata": {},
   "outputs": [],
   "source": [
    "mpi_master.execute(f'bash -lc \"source ./run_hello.sh {mpi_master_hostname} {\",\".join(mpi_worker_hostnames)}\"')"
   ]
  }
 ],
 "metadata": {
  "kernelspec": {
   "display_name": "Python 3 (ipykernel)",
   "language": "python",
   "name": "python3"
  },
  "language_info": {
   "codemirror_mode": {
    "name": "ipython",
    "version": 3
   },
   "file_extension": ".py",
   "mimetype": "text/x-python",
   "name": "python",
   "nbconvert_exporter": "python",
   "pygments_lexer": "ipython3",
   "version": "3.12.10"
  }
 },
 "nbformat": 4,
 "nbformat_minor": 5
}
