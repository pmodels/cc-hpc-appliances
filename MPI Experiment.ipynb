{
 "cells": [
  {
   "cell_type": "markdown",
   "id": "a717baed-cfb0-4bca-899a-6083da728747",
   "metadata": {},
   "source": [
    "# Infrastructure Setup"
   ]
  },
  {
   "cell_type": "code",
   "execution_count": null,
   "id": "a8e721c9-47e0-4a0e-896e-582d18c6760d",
   "metadata": {},
   "outputs": [],
   "source": [
    "import os\n",
    "from chi import context\n",
    "\n",
    "# We select which chameleon site we are using and choose the project\n",
    "context.use_site(\"CHI@UC\")\n",
    "context.choose_project()\n",
    "username = os.environ.get('USER').replace(\"_\",\"-\")"
   ]
  },
  {
   "cell_type": "markdown",
   "id": "0ab3daac-4a2e-449c-b84a-48544e5f409f",
   "metadata": {},
   "source": [
    "## Creating a 1-day lease"
   ]
  },
  {
   "cell_type": "code",
   "execution_count": null,
   "id": "3a88144a-1361-4419-a0ff-72d3e061acc9",
   "metadata": {},
   "outputs": [],
   "source": [
    "from chi import lease\n",
    "from datetime import timedelta"
   ]
  },
  {
   "cell_type": "code",
   "execution_count": null,
   "id": "865ed298-97ed-44cd-9072-afdb1b9ee530",
   "metadata": {},
   "outputs": [],
   "source": [
    "node_type=\"compute_cascadelake_r\"\n",
    "instance_count = 2"
   ]
  },
  {
   "cell_type": "code",
   "execution_count": null,
   "id": "0119b3c3-71ce-4647-bda0-99c2f1d813c8",
   "metadata": {},
   "outputs": [],
   "source": [
    "mpi_lease = lease.Lease(f\"{username}-mpi-lease\", duration=timedelta(days=1))\n",
    "\n",
    "mpi_lease.add_node_reservation(amount=instance_count, node_type=node_type)\n",
    "mpi_lease.add_fip_reservation(1)\n",
    "mpi_lease.submit(idempotent=True)"
   ]
  },
  {
   "cell_type": "markdown",
   "id": "c4180280-564c-4b53-9f07-f5c052ca41e5",
   "metadata": {},
   "source": [
    "## Creating server instances"
   ]
  },
  {
   "cell_type": "code",
   "execution_count": null,
   "id": "ea319564-52c8-4048-9ffb-d8fe83f167e8",
   "metadata": {},
   "outputs": [],
   "source": [
    "from chi import server"
   ]
  },
  {
   "cell_type": "code",
   "execution_count": null,
   "id": "7b17ca9f-f65c-46e1-ba35-e93398848ba0",
   "metadata": {},
   "outputs": [],
   "source": [
    "mpi_master=server.Server(\n",
    "        f\"{username}-mpi-master\",\n",
    "        reservation_id=mpi_lease.node_reservations[0][\"id\"],\n",
    "        image_name=\"Ubuntu22.04-HPC-MPI-Spack\",\n",
    "        network_name=\"sharednet1\"\n",
    ")\n",
    "mpi_master.submit(idempotent=True)\n",
    "\n",
    "mpi_workers = []\n",
    "for i in range(instance_count - 1):\n",
    "    mpi_worker=server.Server(\n",
    "            f\"{username}-mpi-worker-{i+1}\",\n",
    "            reservation_id=mpi_lease.node_reservations[0][\"id\"],\n",
    "            image_name=\"Ubuntu22.04-HPC-MPI-Spack\",\n",
    "            network_name=\"sharednet1\"\n",
    "    )\n",
    "    mpi_worker.submit(idempotent=True)\n",
    "    mpi_workers.append(mpi_worker)"
   ]
  },
  {
   "cell_type": "code",
   "execution_count": null,
   "id": "38de193c-8123-4e49-bead-48eeee1dd603",
   "metadata": {},
   "outputs": [],
   "source": [
    "fip = mpi_lease.get_reserved_floating_ips()[0]\n",
    "mpi_master.associate_floating_ip(fip)"
   ]
  },
  {
   "cell_type": "markdown",
   "id": "3df43f4e-6e66-4e8f-9520-547a1224d861",
   "metadata": {},
   "source": [
    "## Create inventory.ini to work with ansible"
   ]
  },
  {
   "cell_type": "code",
   "execution_count": null,
   "id": "2b72c9e0-49ac-4ec2-ad65-be3bbfac3445",
   "metadata": {},
   "outputs": [],
   "source": [
    "with open(\"/work/inventory.ini\", \"w\") as f:\n",
    "    f.write(\"[master_node]\\n\")\n",
    "    f.write(f\"{mpi_master.name} ansible_host={fip}\\n\\n\")\n",
    "    \n",
    "    f.write(\"[worker_nodes]\\n\")\n",
    "    f.write(\"\\n\".join(f\"{w.name} ansible_host={w.addresses['sharednet1'][0]['addr']}\" for w in mpi_workers))\n",
    "    f.write(\"\\n\\n\")\n",
    "    f.write(\"[worker_nodes:vars]\\n\")\n",
    "    f.write(f\"ansible_ssh_common_args='-o ProxyJump=cc@{fip}'\")"
   ]
  },
  {
   "cell_type": "markdown",
   "id": "3a933d07-f9dd-4b12-b0b3-a8f7f554900b",
   "metadata": {},
   "source": [
    "## Use Ansible to create an MPI Cluster"
   ]
  },
  {
   "cell_type": "code",
   "execution_count": null,
   "id": "3222028f-a334-49f4-960a-727189b084c8",
   "metadata": {},
   "outputs": [],
   "source": [
    "import ansible_runner\n",
    "import tempfile"
   ]
  },
  {
   "cell_type": "code",
   "execution_count": null,
   "id": "c4262191-1faf-46a8-8c1a-1799f2beba06",
   "metadata": {},
   "outputs": [],
   "source": [
    "tmpdir = tempfile.TemporaryDirectory()"
   ]
  },
  {
   "cell_type": "code",
   "execution_count": null,
   "id": "59dfddbc-117c-42de-b8c5-afe9eaba9d2c",
   "metadata": {},
   "outputs": [],
   "source": [
    "ansible_run = ansible_runner.run(\n",
    "    private_data_dir=tmpdir.name,\n",
    "    inventory=\"/work/inventory.ini\",\n",
    "    envvars = {\n",
    "        \"ANSIBLE_CONFIG\": f\"/work/ansible.cfg\"\n",
    "    },\n",
    "    extravars={\n",
    "        \"spack_packages\": [\"pdsh\"]\n",
    "    },\n",
    "    playbook=f\"/work/mpi-cluster.yml\",\n",
    "    verbosity=0\n",
    ")"
   ]
  },
  {
   "cell_type": "code",
   "execution_count": null,
   "id": "721ddefb-1283-4d8b-9d13-19c4e66b85c4",
   "metadata": {},
   "outputs": [],
   "source": [
    "mpi_master.upload(\"/work/hello.c\", \"/home/cc/hello.c\")"
   ]
  },
  {
   "cell_type": "code",
   "execution_count": null,
   "id": "b71052e7-572e-4677-8830-9ba6c8f1210d",
   "metadata": {},
   "outputs": [],
   "source": [
    "mpi_master.execute('bash -l -c \"module load openmpi && mpicc /home/cc/hello.c -o /home/cc/hello\"')\n",
    "mpi_master.execute(f'bash -l -c \"module load pdsh && pdcp -R ssh -w {\",\".join(mpi_worker_hostnames)} hello /home/cc/\"')"
   ]
  },
  {
   "cell_type": "code",
   "execution_count": null,
   "id": "9a452df7-ddc4-4f19-9b76-b608988baecd",
   "metadata": {},
   "outputs": [],
   "source": [
    "mpi_master.execute(\n",
    "    f'bash -l -c \"module load openmpi && mpirun --host {all_hostnames} ./hello\"'\n",
    ")"
   ]
  }
 ],
 "metadata": {
  "kernelspec": {
   "display_name": "Python 3 (ipykernel)",
   "language": "python",
   "name": "python3"
  },
  "language_info": {
   "codemirror_mode": {
    "name": "ipython",
    "version": 3
   },
   "file_extension": ".py",
   "mimetype": "text/x-python",
   "name": "python",
   "nbconvert_exporter": "python",
   "pygments_lexer": "ipython3",
   "version": "3.12.10"
  }
 },
 "nbformat": 4,
 "nbformat_minor": 5
}
